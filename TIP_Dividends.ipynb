{
  "nbformat": 4,
  "nbformat_minor": 0,
  "metadata": {
    "colab": {
      "provenance": [],
      "toc_visible": true,
      "authorship_tag": "ABX9TyMMdlXwzMU+nKqDRsb0T81C",
      "include_colab_link": true
    },
    "kernelspec": {
      "name": "python3",
      "display_name": "Python 3"
    },
    "language_info": {
      "name": "python"
    }
  },
  "cells": [
    {
      "cell_type": "markdown",
      "metadata": {
        "id": "view-in-github",
        "colab_type": "text"
      },
      "source": [
        "<a href=\"https://colab.research.google.com/github/sharifovrus/TIP_Dividends/blob/main/TIP_Dividends.ipynb\" target=\"_parent\"><img src=\"https://colab.research.google.com/assets/colab-badge.svg\" alt=\"Open In Colab\"/></a>"
      ]
    },
    {
      "cell_type": "code",
      "source": [
        "import numpy as np\n",
        "import pandas as pd\n",
        "from matplotlib import pyplot as plt\n",
        "from sklearn.preprocessing import MinMaxScaler\n",
        "from sklearn.model_selection import train_test_split\n",
        "from tensorflow.keras.models import Sequential\n",
        "from tensorflow.keras.layers import LSTM, Dense, Dropout\n",
        "from tensorflow.keras.optimizers import Adam"
      ],
      "metadata": {
        "id": "2ggeNzC89Rwq"
      },
      "execution_count": null,
      "outputs": []
    },
    {
      "cell_type": "code",
      "source": [
        "data = pd.read_csv('TIP_Dividends.csv')"
      ],
      "metadata": {
        "id": "QJZHRlhr9WlA"
      },
      "execution_count": null,
      "outputs": []
    },
    {
      "cell_type": "code",
      "source": [
        "data.head()"
      ],
      "metadata": {
        "colab": {
          "base_uri": "https://localhost:8080/",
          "height": 206
        },
        "id": "99noDY615frw",
        "outputId": "54172256-1bd4-4829-d98e-01efcc9d7342"
      },
      "execution_count": null,
      "outputs": [
        {
          "output_type": "execute_result",
          "data": {
            "text/plain": [
              "         Date  Dividends\n",
              "0  2018-08-01      0.468\n",
              "1  2018-09-04      0.386\n",
              "2  2018-10-01      0.101\n",
              "3  2018-11-01      0.091\n",
              "4  2018-12-03      0.155"
            ],
            "text/html": [
              "\n",
              "\n",
              "  <div id=\"df-7a6b92be-9f29-45b8-a2ed-8c66ebdfe57b\">\n",
              "    <div class=\"colab-df-container\">\n",
              "      <div>\n",
              "<style scoped>\n",
              "    .dataframe tbody tr th:only-of-type {\n",
              "        vertical-align: middle;\n",
              "    }\n",
              "\n",
              "    .dataframe tbody tr th {\n",
              "        vertical-align: top;\n",
              "    }\n",
              "\n",
              "    .dataframe thead th {\n",
              "        text-align: right;\n",
              "    }\n",
              "</style>\n",
              "<table border=\"1\" class=\"dataframe\">\n",
              "  <thead>\n",
              "    <tr style=\"text-align: right;\">\n",
              "      <th></th>\n",
              "      <th>Date</th>\n",
              "      <th>Dividends</th>\n",
              "    </tr>\n",
              "  </thead>\n",
              "  <tbody>\n",
              "    <tr>\n",
              "      <th>0</th>\n",
              "      <td>2018-08-01</td>\n",
              "      <td>0.468</td>\n",
              "    </tr>\n",
              "    <tr>\n",
              "      <th>1</th>\n",
              "      <td>2018-09-04</td>\n",
              "      <td>0.386</td>\n",
              "    </tr>\n",
              "    <tr>\n",
              "      <th>2</th>\n",
              "      <td>2018-10-01</td>\n",
              "      <td>0.101</td>\n",
              "    </tr>\n",
              "    <tr>\n",
              "      <th>3</th>\n",
              "      <td>2018-11-01</td>\n",
              "      <td>0.091</td>\n",
              "    </tr>\n",
              "    <tr>\n",
              "      <th>4</th>\n",
              "      <td>2018-12-03</td>\n",
              "      <td>0.155</td>\n",
              "    </tr>\n",
              "  </tbody>\n",
              "</table>\n",
              "</div>\n",
              "      <button class=\"colab-df-convert\" onclick=\"convertToInteractive('df-7a6b92be-9f29-45b8-a2ed-8c66ebdfe57b')\"\n",
              "              title=\"Convert this dataframe to an interactive table.\"\n",
              "              style=\"display:none;\">\n",
              "\n",
              "  <svg xmlns=\"http://www.w3.org/2000/svg\" height=\"24px\"viewBox=\"0 0 24 24\"\n",
              "       width=\"24px\">\n",
              "    <path d=\"M0 0h24v24H0V0z\" fill=\"none\"/>\n",
              "    <path d=\"M18.56 5.44l.94 2.06.94-2.06 2.06-.94-2.06-.94-.94-2.06-.94 2.06-2.06.94zm-11 1L8.5 8.5l.94-2.06 2.06-.94-2.06-.94L8.5 2.5l-.94 2.06-2.06.94zm10 10l.94 2.06.94-2.06 2.06-.94-2.06-.94-.94-2.06-.94 2.06-2.06.94z\"/><path d=\"M17.41 7.96l-1.37-1.37c-.4-.4-.92-.59-1.43-.59-.52 0-1.04.2-1.43.59L10.3 9.45l-7.72 7.72c-.78.78-.78 2.05 0 2.83L4 21.41c.39.39.9.59 1.41.59.51 0 1.02-.2 1.41-.59l7.78-7.78 2.81-2.81c.8-.78.8-2.07 0-2.86zM5.41 20L4 18.59l7.72-7.72 1.47 1.35L5.41 20z\"/>\n",
              "  </svg>\n",
              "      </button>\n",
              "\n",
              "\n",
              "\n",
              "    <div id=\"df-bc122cfc-e4a3-4390-93cc-02a44d358f37\">\n",
              "      <button class=\"colab-df-quickchart\" onclick=\"quickchart('df-bc122cfc-e4a3-4390-93cc-02a44d358f37')\"\n",
              "              title=\"Suggest charts.\"\n",
              "              style=\"display:none;\">\n",
              "\n",
              "<svg xmlns=\"http://www.w3.org/2000/svg\" height=\"24px\"viewBox=\"0 0 24 24\"\n",
              "     width=\"24px\">\n",
              "    <g>\n",
              "        <path d=\"M19 3H5c-1.1 0-2 .9-2 2v14c0 1.1.9 2 2 2h14c1.1 0 2-.9 2-2V5c0-1.1-.9-2-2-2zM9 17H7v-7h2v7zm4 0h-2V7h2v10zm4 0h-2v-4h2v4z\"/>\n",
              "    </g>\n",
              "</svg>\n",
              "      </button>\n",
              "    </div>\n",
              "\n",
              "<style>\n",
              "  .colab-df-quickchart {\n",
              "    background-color: #E8F0FE;\n",
              "    border: none;\n",
              "    border-radius: 50%;\n",
              "    cursor: pointer;\n",
              "    display: none;\n",
              "    fill: #1967D2;\n",
              "    height: 32px;\n",
              "    padding: 0 0 0 0;\n",
              "    width: 32px;\n",
              "  }\n",
              "\n",
              "  .colab-df-quickchart:hover {\n",
              "    background-color: #E2EBFA;\n",
              "    box-shadow: 0px 1px 2px rgba(60, 64, 67, 0.3), 0px 1px 3px 1px rgba(60, 64, 67, 0.15);\n",
              "    fill: #174EA6;\n",
              "  }\n",
              "\n",
              "  [theme=dark] .colab-df-quickchart {\n",
              "    background-color: #3B4455;\n",
              "    fill: #D2E3FC;\n",
              "  }\n",
              "\n",
              "  [theme=dark] .colab-df-quickchart:hover {\n",
              "    background-color: #434B5C;\n",
              "    box-shadow: 0px 1px 3px 1px rgba(0, 0, 0, 0.15);\n",
              "    filter: drop-shadow(0px 1px 2px rgba(0, 0, 0, 0.3));\n",
              "    fill: #FFFFFF;\n",
              "  }\n",
              "</style>\n",
              "\n",
              "    <script>\n",
              "      async function quickchart(key) {\n",
              "        const containerElement = document.querySelector('#' + key);\n",
              "        const charts = await google.colab.kernel.invokeFunction(\n",
              "            'suggestCharts', [key], {});\n",
              "      }\n",
              "    </script>\n",
              "\n",
              "      <script>\n",
              "\n",
              "function displayQuickchartButton(domScope) {\n",
              "  let quickchartButtonEl =\n",
              "    domScope.querySelector('#df-bc122cfc-e4a3-4390-93cc-02a44d358f37 button.colab-df-quickchart');\n",
              "  quickchartButtonEl.style.display =\n",
              "    google.colab.kernel.accessAllowed ? 'block' : 'none';\n",
              "}\n",
              "\n",
              "        displayQuickchartButton(document);\n",
              "      </script>\n",
              "      <style>\n",
              "    .colab-df-container {\n",
              "      display:flex;\n",
              "      flex-wrap:wrap;\n",
              "      gap: 12px;\n",
              "    }\n",
              "\n",
              "    .colab-df-convert {\n",
              "      background-color: #E8F0FE;\n",
              "      border: none;\n",
              "      border-radius: 50%;\n",
              "      cursor: pointer;\n",
              "      display: none;\n",
              "      fill: #1967D2;\n",
              "      height: 32px;\n",
              "      padding: 0 0 0 0;\n",
              "      width: 32px;\n",
              "    }\n",
              "\n",
              "    .colab-df-convert:hover {\n",
              "      background-color: #E2EBFA;\n",
              "      box-shadow: 0px 1px 2px rgba(60, 64, 67, 0.3), 0px 1px 3px 1px rgba(60, 64, 67, 0.15);\n",
              "      fill: #174EA6;\n",
              "    }\n",
              "\n",
              "    [theme=dark] .colab-df-convert {\n",
              "      background-color: #3B4455;\n",
              "      fill: #D2E3FC;\n",
              "    }\n",
              "\n",
              "    [theme=dark] .colab-df-convert:hover {\n",
              "      background-color: #434B5C;\n",
              "      box-shadow: 0px 1px 3px 1px rgba(0, 0, 0, 0.15);\n",
              "      filter: drop-shadow(0px 1px 2px rgba(0, 0, 0, 0.3));\n",
              "      fill: #FFFFFF;\n",
              "    }\n",
              "  </style>\n",
              "\n",
              "      <script>\n",
              "        const buttonEl =\n",
              "          document.querySelector('#df-7a6b92be-9f29-45b8-a2ed-8c66ebdfe57b button.colab-df-convert');\n",
              "        buttonEl.style.display =\n",
              "          google.colab.kernel.accessAllowed ? 'block' : 'none';\n",
              "\n",
              "        async function convertToInteractive(key) {\n",
              "          const element = document.querySelector('#df-7a6b92be-9f29-45b8-a2ed-8c66ebdfe57b');\n",
              "          const dataTable =\n",
              "            await google.colab.kernel.invokeFunction('convertToInteractive',\n",
              "                                                     [key], {});\n",
              "          if (!dataTable) return;\n",
              "\n",
              "          const docLinkHtml = 'Like what you see? Visit the ' +\n",
              "            '<a target=\"_blank\" href=https://colab.research.google.com/notebooks/data_table.ipynb>data table notebook</a>'\n",
              "            + ' to learn more about interactive tables.';\n",
              "          element.innerHTML = '';\n",
              "          dataTable['output_type'] = 'display_data';\n",
              "          await google.colab.output.renderOutput(dataTable, element);\n",
              "          const docLink = document.createElement('div');\n",
              "          docLink.innerHTML = docLinkHtml;\n",
              "          element.appendChild(docLink);\n",
              "        }\n",
              "      </script>\n",
              "    </div>\n",
              "  </div>\n"
            ]
          },
          "metadata": {},
          "execution_count": 20
        }
      ]
    },
    {
      "cell_type": "code",
      "source": [
        "data.info()"
      ],
      "metadata": {
        "colab": {
          "base_uri": "https://localhost:8080/"
        },
        "id": "ux-lq9tCGw2c",
        "outputId": "8baa548c-a207-4e8b-819e-c5802c452669"
      },
      "execution_count": null,
      "outputs": [
        {
          "output_type": "stream",
          "name": "stdout",
          "text": [
            "<class 'pandas.core.frame.DataFrame'>\n",
            "RangeIndex: 47 entries, 0 to 46\n",
            "Data columns (total 2 columns):\n",
            " #   Column     Non-Null Count  Dtype  \n",
            "---  ------     --------------  -----  \n",
            " 0   Date       47 non-null     object \n",
            " 1   Dividends  47 non-null     float64\n",
            "dtypes: float64(1), object(1)\n",
            "memory usage: 880.0+ bytes\n"
          ]
        }
      ]
    },
    {
      "cell_type": "code",
      "source": [
        "dividends = data['Dividends']\n",
        "\n",
        "# Plot a histogram\n",
        "plt.figure(figsize=(7, 5))\n",
        "plt.hist(dividends, bins=20, color='green', alpha=0.3)\n",
        "plt.xlabel('Dividends')\n",
        "plt.ylabel('Frequency')\n",
        "plt.title('Histogram of Dividends')\n",
        "plt.grid(True)\n",
        "plt.show()"
      ],
      "metadata": {
        "colab": {
          "base_uri": "https://localhost:8080/",
          "height": 487
        },
        "id": "956R98iq7qRc",
        "outputId": "315b6efe-843a-433d-8dec-2d020be099a7"
      },
      "execution_count": null,
      "outputs": [
        {
          "output_type": "display_data",
          "data": {
            "text/plain": [
              "<Figure size 700x500 with 1 Axes>"
            ],
            "image/png": "[encoded data removed]"
          },
          "metadata": {}
        }
      ]
    },
    {
      "cell_type": "code",
      "source": [
        "scaler = MinMaxScaler()\n",
        "data_scaled = scaler.fit_transform(data[['Dividends']])"
      ],
      "metadata": {
        "id": "V0P2jsIj9j2C"
      },
      "execution_count": null,
      "outputs": []
    },
    {
      "cell_type": "code",
      "source": [
        "sequence_length = 5  # Number of past years to consider for prediction\n",
        "sequences = []\n",
        "labels = []\n",
        "for i in range(len(data_scaled) - sequence_length):\n",
        "    sequences.append(data_scaled[i:i+sequence_length])\n",
        "    labels.append(data_scaled[i+sequence_length])\n",
        "\n",
        "X = np.array(sequences)\n",
        "y = np.array(labels)"
      ],
      "metadata": {
        "id": "otD9h8C69uNw"
      },
      "execution_count": null,
      "outputs": []
    },
    {
      "cell_type": "code",
      "source": [
        "# Split the data into training and testing sets\n",
        "X_train, X_test, y_train, y_test = train_test_split(X, y, test_size=0.2, shuffle=False)"
      ],
      "metadata": {
        "id": "ooxL8Nck94gl"
      },
      "execution_count": null,
      "outputs": []
    },
    {
      "cell_type": "code",
      "source": [
        "model = Sequential()\n",
        "model.add(LSTM(units=50, activation='relu', return_sequences=True, input_shape=(X_train.shape[1], 1)))\n",
        "model.add(LSTM(units=50, activation='relu'))\n",
        "model.add(Dense(units=1))\n",
        "\n",
        "model.compile(optimizer=Adam(learning_rate=0.001), loss='mean_squared_error')"
      ],
      "metadata": {
        "id": "2oDzjH_196tZ"
      },
      "execution_count": null,
      "outputs": []
    },
    {
      "cell_type": "code",
      "source": [
        "model.fit(X_train, y_train, epochs=50, batch_size=32)"
      ],
      "metadata": {
        "colab": {
          "base_uri": "https://localhost:8080/"
        },
        "id": "WfEg27aF99Xz",
        "outputId": "1cd0d631-d030-475c-c268-267c6a41fd60"
      },
      "execution_count": null,
      "outputs": [
        {
          "output_type": "stream",
          "name": "stdout",
          "text": [
            "Epoch 1/50\n",
            "2/2 [==============================] - 3s 17ms/step - loss: 0.1335\n",
            "Epoch 2/50\n",
            "2/2 [==============================] - 0s 10ms/step - loss: 0.1248\n",
            "Epoch 3/50\n",
            "2/2 [==============================] - 0s 10ms/step - loss: 0.1172\n",
            "Epoch 4/50\n",
            "2/2 [==============================] - 0s 11ms/step - loss: 0.1107\n",
            "Epoch 5/50\n",
            "2/2 [==============================] - 0s 11ms/step - loss: 0.1045\n",
            "Epoch 6/50\n",
            "2/2 [==============================] - 0s 13ms/step - loss: 0.0987\n",
            "Epoch 7/50\n",
            "2/2 [==============================] - 0s 13ms/step - loss: 0.0926\n",
            "Epoch 8/50\n",
            "2/2 [==============================] - 0s 10ms/step - loss: 0.0874\n",
            "Epoch 9/50\n",
            "2/2 [==============================] - 0s 10ms/step - loss: 0.0820\n",
            "Epoch 10/50\n",
            "2/2 [==============================] - 0s 10ms/step - loss: 0.0766\n",
            "Epoch 11/50\n",
            "2/2 [==============================] - 0s 11ms/step - loss: 0.0715\n",
            "Epoch 12/50\n",
            "2/2 [==============================] - 0s 13ms/step - loss: 0.0668\n",
            "Epoch 13/50\n",
            "2/2 [==============================] - 0s 13ms/step - loss: 0.0629\n",
            "Epoch 14/50\n",
            "2/2 [==============================] - 0s 10ms/step - loss: 0.0591\n",
            "Epoch 15/50\n",
            "2/2 [==============================] - 0s 9ms/step - loss: 0.0563\n",
            "Epoch 16/50\n",
            "2/2 [==============================] - 0s 10ms/step - loss: 0.0535\n",
            "Epoch 17/50\n",
            "2/2 [==============================] - 0s 10ms/step - loss: 0.0516\n",
            "Epoch 18/50\n",
            "2/2 [==============================] - 0s 11ms/step - loss: 0.0506\n",
            "Epoch 19/50\n",
            "2/2 [==============================] - 0s 10ms/step - loss: 0.0496\n",
            "Epoch 20/50\n",
            "2/2 [==============================] - 0s 10ms/step - loss: 0.0492\n",
            "Epoch 21/50\n",
            "2/2 [==============================] - 0s 18ms/step - loss: 0.0493\n",
            "Epoch 22/50\n",
            "2/2 [==============================] - 0s 12ms/step - loss: 0.0496\n",
            "Epoch 23/50\n",
            "2/2 [==============================] - 0s 14ms/step - loss: 0.0499\n",
            "Epoch 24/50\n",
            "2/2 [==============================] - 0s 13ms/step - loss: 0.0499\n",
            "Epoch 25/50\n",
            "2/2 [==============================] - 0s 11ms/step - loss: 0.0496\n",
            "Epoch 26/50\n",
            "2/2 [==============================] - 0s 11ms/step - loss: 0.0492\n",
            "Epoch 27/50\n",
            "2/2 [==============================] - 0s 11ms/step - loss: 0.0491\n",
            "Epoch 28/50\n",
            "2/2 [==============================] - 0s 11ms/step - loss: 0.0494\n",
            "Epoch 29/50\n",
            "2/2 [==============================] - 0s 12ms/step - loss: 0.0499\n",
            "Epoch 30/50\n",
            "2/2 [==============================] - 0s 12ms/step - loss: 0.0504\n",
            "Epoch 31/50\n",
            "2/2 [==============================] - 0s 11ms/step - loss: 0.0514\n",
            "Epoch 32/50\n",
            "2/2 [==============================] - 0s 14ms/step - loss: 0.0519\n",
            "Epoch 33/50\n",
            "2/2 [==============================] - 0s 15ms/step - loss: 0.0522\n",
            "Epoch 34/50\n",
            "2/2 [==============================] - 0s 11ms/step - loss: 0.0527\n",
            "Epoch 35/50\n",
            "2/2 [==============================] - 0s 11ms/step - loss: 0.0532\n",
            "Epoch 36/50\n",
            "2/2 [==============================] - 0s 13ms/step - loss: 0.0537\n",
            "Epoch 37/50\n",
            "2/2 [==============================] - 0s 11ms/step - loss: 0.0543\n",
            "Epoch 38/50\n",
            "2/2 [==============================] - 0s 11ms/step - loss: 0.0543\n",
            "Epoch 39/50\n",
            "2/2 [==============================] - 0s 11ms/step - loss: 0.0540\n",
            "Epoch 40/50\n",
            "2/2 [==============================] - 0s 11ms/step - loss: 0.0533\n",
            "Epoch 41/50\n",
            "2/2 [==============================] - 0s 11ms/step - loss: 0.0524\n",
            "Epoch 42/50\n",
            "2/2 [==============================] - 0s 12ms/step - loss: 0.0513\n",
            "Epoch 43/50\n",
            "2/2 [==============================] - 0s 15ms/step - loss: 0.0504\n",
            "Epoch 44/50\n",
            "2/2 [==============================] - 0s 11ms/step - loss: 0.0499\n",
            "Epoch 45/50\n",
            "2/2 [==============================] - 0s 10ms/step - loss: 0.0496\n",
            "Epoch 46/50\n",
            "2/2 [==============================] - 0s 10ms/step - loss: 0.0494\n",
            "Epoch 47/50\n",
            "2/2 [==============================] - 0s 13ms/step - loss: 0.0495\n",
            "Epoch 48/50\n",
            "2/2 [==============================] - 0s 10ms/step - loss: 0.0496\n",
            "Epoch 49/50\n",
            "2/2 [==============================] - 0s 11ms/step - loss: 0.0498\n",
            "Epoch 50/50\n",
            "2/2 [==============================] - 0s 17ms/step - loss: 0.0500\n"
          ]
        },
        {
          "output_type": "execute_result",
          "data": {
            "text/plain": [
              "<keras.callbacks.History at 0x79cc44a49a80>"
            ]
          },
          "metadata": {},
          "execution_count": 38
        }
      ]
    },
    {
      "cell_type": "code",
      "source": [
        "train_loss = model.evaluate(X_train, y_train, verbose=0)\n",
        "test_loss = model.evaluate(X_test, y_test, verbose=0)\n",
        "print(f'Training Loss: {train_loss}, Testing Loss: {test_loss}')"
      ],
      "metadata": {
        "colab": {
          "base_uri": "https://localhost:8080/"
        },
        "id": "NPu22Hx1-QN5",
        "outputId": "24803c62-f963-4957-ed80-82efb70c64db"
      },
      "execution_count": null,
      "outputs": [
        {
          "output_type": "stream",
          "name": "stdout",
          "text": [
            "Training Loss: 0.050145141780376434, Testing Loss: 0.09305711090564728\n"
          ]
        }
      ]
    },
    {
      "cell_type": "code",
      "source": [
        "predicted_scaled = model.predict(X_test)\n",
        "predicted = scaler.inverse_transform(predicted_scaled)\n",
        "actual = scaler.inverse_transform(y_test)\n",
        "print(\"Predicted Dividends:\")\n",
        "print(predicted.flatten())\n",
        "print(\"Actual Dividends:\")\n",
        "print(actual.flatten())"
      ],
      "metadata": {
        "colab": {
          "base_uri": "https://localhost:8080/"
        },
        "id": "UA6KcS1r-VGT",
        "outputId": "58f20dbc-f2e8-4c0b-da25-c09822fb2c2f"
      },
      "execution_count": null,
      "outputs": [
        {
          "output_type": "stream",
          "name": "stdout",
          "text": [
            "1/1 [==============================] - 0s 43ms/step\n",
            "Predicted Dividends:\n",
            "[0.49875528 0.56527823 0.6005356  0.58435696 0.514602   0.49967414\n",
            " 0.43781635 0.34825537 0.37028804]\n",
            "Actual Dividends:\n",
            "[1.154 1.438 0.131 0.349 0.127 0.569 0.313 0.504 0.221]\n"
          ]
        }
      ]
    },
    {
      "cell_type": "code",
      "source": [],
      "metadata": {
        "colab": {
          "base_uri": "https://localhost:8080/"
        },
        "id": "b_EL0DYF-X5I",
        "outputId": "06f44924-d60f-4fbf-d142-ee5eed40efff"
      },
      "execution_count": null,
      "outputs": [
        {
          "output_type": "stream",
          "name": "stdout",
          "text": [
            "Predicted Dividends:\n",
            "[0.49875528 0.56527823 0.6005356  0.58435696 0.514602   0.49967414\n",
            " 0.43781635 0.34825537 0.37028804]\n",
            "Actual Dividends:\n",
            "[1.154 1.438 0.131 0.349 0.127 0.569 0.313 0.504 0.221]\n"
          ]
        }
      ]
    }
  ]
}